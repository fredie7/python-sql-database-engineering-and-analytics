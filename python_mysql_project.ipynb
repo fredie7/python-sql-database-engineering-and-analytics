{
 "cells": [
  {
   "cell_type": "markdown",
   "id": "f4a68ab1",
   "metadata": {},
   "source": [
    "A project developed from META Database Engineering course participation "
   ]
  },
  {
   "cell_type": "markdown",
   "id": "6bc3b850",
   "metadata": {},
   "source": [
    "Little Lemon is a family-owned Mediterranean restaurant. They are developing a Python-based application that needs to connect with the MySQL database so that the booking, menu and orders data can be stored in the respective tables. \n",
    "\n",
    "The restaurant owner wants to use the stored data to make data-driven decisions to increase their revenue. Establishing a database is one of their key objectives. "
   ]
  },
  {
   "cell_type": "markdown",
   "id": "785e3754",
   "metadata": {},
   "source": [
    "Establish Conection"
   ]
  },
  {
   "cell_type": "markdown",
   "id": "a8377cc8",
   "metadata": {},
   "source": [
    "Install dependenc: \n",
    "pip install mysql-connector-python"
   ]
  },
  {
   "cell_type": "code",
   "execution_count": 80,
   "id": "1f2e2530",
   "metadata": {},
   "outputs": [
    {
     "name": "stdout",
     "output_type": "stream",
     "text": [
      "Collecting python-dotenv\n",
      "  Using cached python_dotenv-1.0.1-py3-none-any.whl (19 kB)\n",
      "Installing collected packages: python-dotenv\n",
      "Successfully installed python-dotenv-1.0.1\n",
      "Note: you may need to restart the kernel to use updated packages.\n"
     ]
    }
   ],
   "source": [
    "import os\n",
    "from dotenv import load_dotenv\n",
    "\n",
    "# Load environment variables from the .env file\n",
    "load_dotenv()\n",
    "\n",
    "# Access environment variables\n",
    "database_url = os.getenv('DATABASE_URL')\n",
    "secret_key = os.getenv('SECRET_KEY')\n",
    "debug = os.getenv('DEBUG')\n",
    "\n",
    "print(f\"Database URL: {database_url}\")\n",
    "print(f\"Secret Key: {secret_key}\")\n",
    "print(f\"Debug Mode: {debug}\")\n"
   ]
  },
  {
   "cell_type": "code",
   "execution_count": 40,
   "id": "02b06d0b",
   "metadata": {},
   "outputs": [],
   "source": [
    "import mysql.connector as connector"
   ]
  },
  {
   "cell_type": "code",
   "execution_count": 82,
   "id": "1a66a785",
   "metadata": {},
   "outputs": [
    {
     "data": {
      "text/plain": [
       "'\\nconnection = connector.connect(user=\"root\",password=\"\")\\n'"
      ]
     },
     "execution_count": 82,
     "metadata": {},
     "output_type": "execute_result"
    }
   ],
   "source": [
    "\"\"\"\n",
    "connection = connector.connect(user=\"root\",password=\"\")\n",
    "\"\"\""
   ]
  },
  {
   "cell_type": "markdown",
   "id": "8fca5600",
   "metadata": {},
   "source": [
    " Create a cursor"
   ]
  },
  {
   "cell_type": "code",
   "execution_count": 42,
   "id": "e33d7701",
   "metadata": {},
   "outputs": [],
   "source": [
    "cursor = connection.cursor()"
   ]
  },
  {
   "cell_type": "markdown",
   "id": "19202550",
   "metadata": {},
   "source": [
    "Create the database and set it for use"
   ]
  },
  {
   "cell_type": "code",
   "execution_count": 43,
   "id": "6a0a9acb",
   "metadata": {},
   "outputs": [],
   "source": [
    "cursor.execute(\"CREATE DATABASE IF NOT EXISTS little_lemon_db\")"
   ]
  },
  {
   "cell_type": "code",
   "execution_count": 44,
   "id": "08d311f6",
   "metadata": {},
   "outputs": [],
   "source": [
    "cursor.execute(\"USE little_lemon_db\")"
   ]
  },
  {
   "cell_type": "code",
   "execution_count": 45,
   "id": "2d42f6dc",
   "metadata": {},
   "outputs": [],
   "source": [
    "cursor.execute(\"\"\"DROP TABLE IF EXISTS MenuItems;\"\"\")\n",
    "cursor.execute(\"\"\"DROP TABLE IF EXISTS Menus;\"\"\")\n",
    "cursor.execute(\"\"\"DROP TABLE IF EXISTS Bookings;\"\"\")\n",
    "cursor.execute(\"\"\"DROP TABLE IF EXISTS Orders;\"\"\")\n",
    "cursor.execute(\"\"\"DROP TABLE IF EXISTS Employees;\"\"\")"
   ]
  },
  {
   "cell_type": "markdown",
   "id": "e9a61ea2",
   "metadata": {},
   "source": [
    "Create tables"
   ]
  },
  {
   "cell_type": "code",
   "execution_count": 46,
   "id": "ce9821d6",
   "metadata": {},
   "outputs": [],
   "source": [
    "create_menuitem_table = \"\"\"CREATE TABLE IF NOT EXISTS MenuItems (\n",
    "ItemID INT AUTO_INCREMENT,\n",
    "Name VARCHAR(200),\n",
    "Type VARCHAR(100),\n",
    "Price INT,\n",
    "PRIMARY KEY (ItemID)\n",
    ");\"\"\""
   ]
  },
  {
   "cell_type": "code",
   "execution_count": 47,
   "id": "86d21430",
   "metadata": {},
   "outputs": [],
   "source": [
    "create_menu_table = \"\"\"CREATE TABLE IF NOT EXISTS Menus (\n",
    "MenuID INT,\n",
    "ItemID INT,\n",
    "Cuisine VARCHAR(100),\n",
    "PRIMARY KEY (MenuID,ItemID)\n",
    ");\"\"\""
   ]
  },
  {
   "cell_type": "code",
   "execution_count": 48,
   "id": "b310b2c1",
   "metadata": {},
   "outputs": [],
   "source": [
    "create_booking_table = \"\"\"CREATE TABLE IF NOT EXISTS Bookings (\n",
    "BookingID INT AUTO_INCREMENT,\n",
    "TableNo INT,\n",
    "GuestFirstName VARCHAR(100) NOT NULL,\n",
    "GuestLastName VARCHAR(100) NOT NULL,\n",
    "BookingSlot TIME NOT NULL,\n",
    "EmployeeID INT,\n",
    "PRIMARY KEY (BookingID)\n",
    ");\"\"\""
   ]
  },
  {
   "cell_type": "code",
   "execution_count": 49,
   "id": "b5d058f5",
   "metadata": {},
   "outputs": [],
   "source": [
    "create_orders_table = \"\"\"CREATE TABLE IF NOT EXISTS Orders (\n",
    "OrderID INT,\n",
    "TableNo INT,\n",
    "MenuID INT,\n",
    "BookingID INT,\n",
    "BillAmount INT,\n",
    "Quantity INT,\n",
    "PRIMARY KEY (OrderID,TableNo)\n",
    ");\"\"\""
   ]
  },
  {
   "cell_type": "code",
   "execution_count": 50,
   "id": "582f4512",
   "metadata": {},
   "outputs": [],
   "source": [
    "create_employees_table = \"\"\"CREATE TABLE IF NOT EXISTS Employees (\n",
    "EmployeeID INT AUTO_INCREMENT PRIMARY KEY,\n",
    "Name VARCHAR (255),\n",
    "Role VARCHAR (100),\n",
    "Address VARCHAR (255),\n",
    "Contact_Number INT,\n",
    "Email VARCHAR (255),\n",
    "Annual_Salary VARCHAR (100)\n",
    ");\"\"\""
   ]
  },
  {
   "cell_type": "code",
   "execution_count": null,
   "id": "684eae1b",
   "metadata": {},
   "outputs": [],
   "source": []
  },
  {
   "cell_type": "code",
   "execution_count": 51,
   "id": "e3a17169",
   "metadata": {},
   "outputs": [],
   "source": [
    "# Create MenuItems table\n",
    "cursor.execute(create_menuitem_table)\n",
    "\n",
    "# Create Menu table\n",
    "cursor.execute(create_menu_table)\n",
    "\n",
    "# Create Bookings table\n",
    "cursor.execute(create_booking_table)\n",
    "\n",
    "# Create Orders table\n",
    "cursor.execute(create_orders_table)\n",
    "\n",
    "# Create Employees table\n",
    "cursor.execute(create_employees_table)"
   ]
  },
  {
   "cell_type": "code",
   "execution_count": 52,
   "id": "e4479079",
   "metadata": {},
   "outputs": [],
   "source": [
    "#*******************************************************#\n",
    "# Insert query to populate \"MenuItems\" table:\n",
    "#*******************************************************#\n",
    "insert_menuitems=\"\"\"\n",
    "INSERT INTO MenuItems (ItemID, Name, Type, Price)\n",
    "VALUES\n",
    "(1, 'Olives','Starters',5),\n",
    "(2, 'Flatbread','Starters', 5),\n",
    "(3, 'Minestrone', 'Starters', 8),\n",
    "(4, 'Tomato bread','Starters', 8),\n",
    "(5, 'Falafel', 'Starters', 7),\n",
    "(6, 'Hummus', 'Starters', 5),\n",
    "(7, 'Greek salad', 'Main Courses', 15),\n",
    "(8, 'Bean soup', 'Main Courses', 12),\n",
    "(9, 'Pizza', 'Main Courses', 15),\n",
    "(10, 'Greek yoghurt','Desserts', 7),\n",
    "(11, 'Ice cream', 'Desserts', 6),\n",
    "(12, 'Cheesecake', 'Desserts', 4),\n",
    "(13, 'Athens White wine', 'Drinks', 25),\n",
    "(14, 'Corfu Red Wine', 'Drinks', 30),\n",
    "(15, 'Turkish Coffee', 'Drinks', 10),\n",
    "(16, 'Turkish Coffee', 'Drinks', 10),\n",
    "(17, 'Kabasa', 'Main Courses', 17);\"\"\"\n",
    "\n",
    "#*******************************************************#\n",
    "# Insert query to populate \"Menu\" table:\n",
    "#*******************************************************#\n",
    "insert_menu=\"\"\"\n",
    "INSERT INTO Menus (MenuID,ItemID,Cuisine)\n",
    "VALUES\n",
    "(1, 1, 'Greek'),\n",
    "(1, 7, 'Greek'),\n",
    "(1, 10, 'Greek'),\n",
    "(1, 13, 'Greek'),\n",
    "(2, 3, 'Italian'),\n",
    "(2, 9, 'Italian'),\n",
    "(2, 12, 'Italian'),\n",
    "(2, 15, 'Italian'),\n",
    "(3, 5, 'Turkish'),\n",
    "(3, 17, 'Turkish'),\n",
    "(3, 11, 'Turkish'),\n",
    "(3, 16, 'Turkish');\"\"\"\n",
    "\n",
    "#*******************************************************#\n",
    "# Insert query to populate \"Bookings\" table:\n",
    "#*******************************************************#\n",
    "insert_bookings=\"\"\"\n",
    "INSERT INTO Bookings (BookingID, TableNo, GuestFirstName, \n",
    "GuestLastName, BookingSlot, EmployeeID)\n",
    "VALUES\n",
    "(1, 12, 'Anna','Iversen','19:00:00',1),\n",
    "(2, 12, 'Joakim', 'Iversen', '19:00:00', 1),\n",
    "(3, 19, 'Vanessa', 'McCarthy', '15:00:00', 3),\n",
    "(4, 15, 'Marcos', 'Romero', '17:30:00', 4),\n",
    "(5, 5, 'Hiroki', 'Yamane', '18:30:00', 2),\n",
    "(6, 8, 'Diana', 'Pinto', '20:00:00', 5);\"\"\"\n",
    "\n",
    "#*******************************************************#\n",
    "# Insert query to populate \"Orders\" table:\n",
    "#*******************************************************#\n",
    "insert_orders=\"\"\"\n",
    "INSERT INTO Orders (OrderID, TableNo, MenuID, BookingID, Quantity, BillAmount)\n",
    "VALUES\n",
    "(1, 12, 1, 1, 2, 86),\n",
    "(2, 19, 2, 2, 1, 37),\n",
    "(3, 15, 2, 3, 1, 37),\n",
    "(4, 5, 3, 4, 1, 40),\n",
    "(5, 8, 1, 5, 1, 43);\"\"\"\n",
    "\n",
    "#*******************************************************#\n",
    "# Insert query to populate \"Employees\" table:\n",
    "#*******************************************************#\n",
    "insert_employees = \"\"\"\n",
    "INSERT INTO employees (EmployeeID, Name, Role, Address, Contact_Number, Email, Annual_Salary) VALUES\n",
    "(01,'Mario Gollini','Manager','724, Parsley Lane, Old Town, Chicago, IL',351258074,'Mario.g@littlelemon.com','$70,000'),\n",
    "(02,'Adrian Gollini','Assistant Manager','334, Dill Square, Lincoln Park, Chicago, IL',351474048,'Adrian.g@littlelemon.com','$65,000'),\n",
    "(03,'Giorgos Dioudis','Head Chef','879 Sage Street, West Loop, Chicago, IL',351970582,'Giorgos.d@littlelemon.com','$50,000'),\n",
    "(04,'Fatma Kaya','Assistant Chef','132  Bay Lane, Chicago, IL',351963569,'Fatma.k@littlelemon.com','$45,000'),\n",
    "(05,'Elena Salvai','Head Waiter','989 Thyme Square, EdgeWater, Chicago, IL',351074198,'Elena.s@littlelemon.com','$40,000'),\n",
    "(06,'John Millar','Receptionist','245 Dill Square, Lincoln Park, Chicago, IL',351584508,'John.m@littlelemon.com','$35,000');\"\"\"\n"
   ]
  },
  {
   "cell_type": "markdown",
   "id": "63621c87",
   "metadata": {},
   "source": [
    "Insert data"
   ]
  },
  {
   "cell_type": "code",
   "execution_count": 53,
   "id": "59a259d6",
   "metadata": {},
   "outputs": [],
   "source": [
    "# Populate MenuItems table\n",
    "cursor.execute(insert_menuitems)\n",
    "connection.commit()\n",
    "\n",
    "# Populate MenuItems table\n",
    "cursor.execute(insert_menu)\n",
    "connection.commit()\n",
    "\n",
    "# Populate Bookings table\n",
    "cursor.execute(insert_bookings)\n",
    "connection.commit()\n",
    "\n",
    "# Populate Orders table\n",
    "cursor.execute(insert_orders)\n",
    "connection.commit()\n",
    "\n",
    "# Populate Employees table\n",
    "cursor.execute(insert_employees)\n",
    "connection.commit()"
   ]
  },
  {
   "cell_type": "code",
   "execution_count": 54,
   "id": "f304d73c",
   "metadata": {},
   "outputs": [],
   "source": [
    "from mysql.connector.pooling import MySQLConnectionPool\n",
    "from mysql.connector import Error"
   ]
  },
  {
   "cell_type": "markdown",
   "id": "37417b35",
   "metadata": {},
   "source": [
    "mysql pool configuration"
   ]
  },
  {
   "cell_type": "code",
   "execution_count": 84,
   "id": "3afef65d",
   "metadata": {},
   "outputs": [
    {
     "data": {
      "text/plain": [
       "'\\ndbConfig = {\\n    \"database\":\"little_lemon_db\",\\n    \"user\":\"root\",\\n    \"password\":\"\",\\n}\\n'"
      ]
     },
     "execution_count": 84,
     "metadata": {},
     "output_type": "execute_result"
    }
   ],
   "source": [
    "\"\"\"\n",
    "dbConfig = {\n",
    "    \"database\":\"little_lemon_db\",\n",
    "    \"user\":\"root\",\n",
    "    \"password\":\"\",\n",
    "}\n",
    "\"\"\""
   ]
  },
  {
   "cell_type": "markdown",
   "id": "3dc65eb2",
   "metadata": {},
   "source": [
    "create a connection pool"
   ]
  },
  {
   "cell_type": "code",
   "execution_count": 56,
   "id": "0d17ee0b",
   "metadata": {},
   "outputs": [
    {
     "name": "stdout",
     "output_type": "stream",
     "text": [
      "Connection pool is created with a name:  pool_a\n",
      "The pool size is:  2\n"
     ]
    }
   ],
   "source": [
    "try:\n",
    "    pool = MySQLConnectionPool(pool_name=\"pool_a\",pool_size=2,**dbConfig)\n",
    "    print(\"Connection pool is created with a name: \",pool.pool_name)\n",
    "    print(\"The pool size is: \", pool.pool_size)\n",
    "except Error as error:\n",
    "    print(\"pool could not be created\")\n",
    "    print(\"error code: \", error.errno)\n",
    "    print(\"error message: \", error.msg)"
   ]
  },
  {
   "cell_type": "markdown",
   "id": "7fde8f2a",
   "metadata": {},
   "source": [
    "Implement a stored procedure that shows the peak and busiest hours based on the booking numbers"
   ]
  },
  {
   "cell_type": "code",
   "execution_count": 57,
   "id": "15dabf69",
   "metadata": {},
   "outputs": [],
   "source": [
    "cursor.execute(\"\"\"DROP PROCEDURE IF EXISTS PeakHours\"\"\")\n",
    "stored_procedure_query = \"\"\"\n",
    "CREATE PROCEDURE PeakHours()\n",
    "\n",
    "BEGIN\n",
    "\n",
    "SELECT HOUR(BookingSlot) AS BookingHour, COUNT(*) AS NumberOfBookings from little_lemon_db.bookings \n",
    "GROUP BY HOUR(BookingSlot) \n",
    "ORDER BY NumberOfBookings DESC;\n",
    "\n",
    "END\n",
    "\"\"\""
   ]
  },
  {
   "cell_type": "code",
   "execution_count": 58,
   "id": "91bc517f",
   "metadata": {},
   "outputs": [],
   "source": [
    "cursor.execute(stored_procedure_query)"
   ]
  },
  {
   "cell_type": "markdown",
   "id": "38e4b94d",
   "metadata": {},
   "source": [
    "call the stored procedure"
   ]
  },
  {
   "cell_type": "code",
   "execution_count": 59,
   "id": "dc20ea38",
   "metadata": {},
   "outputs": [
    {
     "data": {
      "text/plain": [
       "()"
      ]
     },
     "execution_count": 59,
     "metadata": {},
     "output_type": "execute_result"
    }
   ],
   "source": [
    "cursor.callproc(\"PeakHours\")"
   ]
  },
  {
   "cell_type": "markdown",
   "id": "d6bc2f88",
   "metadata": {},
   "source": [
    "Retrieve records"
   ]
  },
  {
   "cell_type": "code",
   "execution_count": 60,
   "id": "69ba81cc",
   "metadata": {},
   "outputs": [],
   "source": [
    "response = next(cursor.stored_results())\n",
    "dataset = response.fetchall()"
   ]
  },
  {
   "cell_type": "markdown",
   "id": "26e8985e",
   "metadata": {},
   "source": [
    "Retrieve columns"
   ]
  },
  {
   "cell_type": "code",
   "execution_count": 61,
   "id": "c55eb813",
   "metadata": {},
   "outputs": [
    {
     "name": "stdout",
     "output_type": "stream",
     "text": [
      "['BookingHour', 'NumberOfBookings']\n"
     ]
    }
   ],
   "source": [
    "columns = [col[0] for col in response.description]\n",
    "\n",
    "print(columns)"
   ]
  },
  {
   "cell_type": "code",
   "execution_count": null,
   "id": "99073d37",
   "metadata": {},
   "outputs": [],
   "source": []
  },
  {
   "cell_type": "code",
   "execution_count": 62,
   "id": "1c7af469",
   "metadata": {},
   "outputs": [
    {
     "name": "stdout",
     "output_type": "stream",
     "text": [
      "(19, 2)\n",
      "(15, 1)\n",
      "(17, 1)\n",
      "(18, 1)\n",
      "(20, 1)\n"
     ]
    }
   ],
   "source": [
    "# Print data\n",
    "for data in dataset:\n",
    "    print(data)"
   ]
  },
  {
   "cell_type": "markdown",
   "id": "03b17c61",
   "metadata": {},
   "source": [
    "A stored procedure that displays the status of each guest’s order based on the assigned employee"
   ]
  },
  {
   "cell_type": "code",
   "execution_count": 63,
   "id": "2ee6bcd6",
   "metadata": {},
   "outputs": [],
   "source": [
    "cursor.execute(\"\"\"DROP PROCEDURE IF EXISTS GuestStatus\"\"\")\n",
    "guest_status_query = \"\"\"\n",
    "CREATE PROCEDURE GuestStatus()\n",
    "\n",
    "BEGIN\n",
    "\n",
    "SELECT CONCAT(b.GuestFirstName,b.GuestLastName) AS FullName,\n",
    "CASE\n",
    "WHEN e.Role IN (\"Manager\",\"Assistant Manager\") THEN \"Ready to pay\"\n",
    "WHEN e.Role = \"Head Chef\" THEN \"Ready tp serve\"\n",
    "WHEN e.Role = \"Assistant Chef\" THEN \"Preparing Order\"\n",
    "WHEN e.Role = \"Head Waiter\" THEN \"Order served\"\n",
    "ELSE \"Unknown Status\"\n",
    "END AS OrderStatus\n",
    "FROM little_lemon_db.bookings b\n",
    "LEFT JOIN\n",
    "little_lemon_db.employeeS e\n",
    "ON b.employeeID = e.employeeID;\n",
    "\n",
    "END\n",
    "\"\"\""
   ]
  },
  {
   "cell_type": "code",
   "execution_count": 64,
   "id": "cfffdb65",
   "metadata": {},
   "outputs": [],
   "source": [
    "cursor.execute(guest_status_query)"
   ]
  },
  {
   "cell_type": "markdown",
   "id": "855f6e3e",
   "metadata": {},
   "source": [
    "call the stored procedure"
   ]
  },
  {
   "cell_type": "code",
   "execution_count": 65,
   "id": "8a899931",
   "metadata": {},
   "outputs": [
    {
     "data": {
      "text/plain": [
       "()"
      ]
     },
     "execution_count": 65,
     "metadata": {},
     "output_type": "execute_result"
    }
   ],
   "source": [
    "cursor.callproc(\"GuestStatus\")"
   ]
  },
  {
   "cell_type": "markdown",
   "id": "ba648015",
   "metadata": {},
   "source": [
    "Retrieve guest records"
   ]
  },
  {
   "cell_type": "code",
   "execution_count": 66,
   "id": "647d46e0",
   "metadata": {},
   "outputs": [],
   "source": [
    "guest_response = next(cursor.stored_results())\n",
    "dataset = guest_response.fetchall()"
   ]
  },
  {
   "cell_type": "code",
   "execution_count": 67,
   "id": "ff3d9104",
   "metadata": {},
   "outputs": [],
   "source": [
    "guest_columns = [col[0] for col in guest_response.description]"
   ]
  },
  {
   "cell_type": "code",
   "execution_count": 68,
   "id": "0eeb1ee4",
   "metadata": {},
   "outputs": [
    {
     "data": {
      "text/plain": [
       "['FullName', 'OrderStatus']"
      ]
     },
     "execution_count": 68,
     "metadata": {},
     "output_type": "execute_result"
    }
   ],
   "source": [
    "guest_columns"
   ]
  },
  {
   "cell_type": "markdown",
   "id": "708ced4f",
   "metadata": {},
   "source": [
    "Print data"
   ]
  },
  {
   "cell_type": "code",
   "execution_count": 69,
   "id": "8180e80f",
   "metadata": {},
   "outputs": [
    {
     "name": "stdout",
     "output_type": "stream",
     "text": [
      "('AnnaIversen', 'Ready to pay')\n",
      "('JoakimIversen', 'Ready to pay')\n",
      "('VanessaMcCarthy', 'Ready tp serve')\n",
      "('MarcosRomero', 'Preparing Order')\n",
      "('HirokiYamane', 'Ready to pay')\n",
      "('DianaPinto', 'Order served')\n"
     ]
    }
   ],
   "source": [
    "for data in dataset:\n",
    "    print(data)"
   ]
  },
  {
   "cell_type": "markdown",
   "id": "f701fb72",
   "metadata": {},
   "source": [
    "Create pool_b"
   ]
  },
  {
   "cell_type": "code",
   "execution_count": 86,
   "id": "763594c3",
   "metadata": {},
   "outputs": [
    {
     "data": {
      "text/plain": [
       "'\\ndbConfig = {\\n    \"database\":\"little_lemon_db\",\\n    \"user\":\"root\",\\n    \"password\":\"\",\\n}\\n\\n\\n# create a connection pool\\ntry:\\n    pool = MySQLConnectionPool(pool_name=\"pool_b\",pool_size=2,**dbConfig)\\n    print(\"Connection pool is created with a name: \",pool.pool_name)\\n    print(\"The pool size is: \", pool.pool_size)\\nexcept Error as error:\\n    print(\"pool could not be created\")\\n    print(\"error code: \", error.errno)\\n    print(\"error message: \", error.msg)\\n'"
      ]
     },
     "execution_count": 86,
     "metadata": {},
     "output_type": "execute_result"
    }
   ],
   "source": [
    "# TASK 1\n",
    "from mysql.connector.pooling import MySQLConnectionPool\n",
    "from mysql.connector import Error\n",
    "# mysql pool configuration\n",
    "\"\"\"\n",
    "dbConfig = {\n",
    "    \"database\":\"little_lemon_db\",\n",
    "    \"user\":\"root\",\n",
    "    \"password\":\"\",\n",
    "}\n",
    "\n",
    "\n",
    "# create a connection pool\n",
    "try:\n",
    "    pool = MySQLConnectionPool(pool_name=\"pool_b\",pool_size=2,**dbConfig)\n",
    "    print(\"Connection pool is created with a name: \",pool.pool_name)\n",
    "    print(\"The pool size is: \", pool.pool_size)\n",
    "except Error as error:\n",
    "    print(\"pool could not be created\")\n",
    "    print(\"error code: \", error.errno)\n",
    "    print(\"error message: \", error.msg)\n",
    "\"\"\""
   ]
  },
  {
   "cell_type": "code",
   "execution_count": null,
   "id": "d345d6e2",
   "metadata": {},
   "outputs": [],
   "source": []
  },
  {
   "cell_type": "code",
   "execution_count": 71,
   "id": "d748d438",
   "metadata": {},
   "outputs": [],
   "source": [
    "# TASK 2\n",
    "try:\n",
    "    connection = pool.get_connection()\n",
    "    cursor = connection.cursor()\n",
    "    insert_new_bookings=\"\"\"\n",
    "    INSERT INTO Bookings (BookingID, TableNo, GuestFirstName, \n",
    "    GuestLastName, BookingSlot, EmployeeID)\n",
    "    VALUES\n",
    "    (7, 8, 'Annes','Java','18:00:00',6),\n",
    "    (8, 5, 'Bald', 'Vin', '19:00:00', 6),\n",
    "    (9, 12, 'Jay', 'Kon', '19:30:00', 6)\n",
    "    ;\"\"\"\n",
    "    # Insert data into Bookings table\n",
    "    cursor.execute(insert_new_bookings)\n",
    "    connection.commit()\n",
    "except Exception as e:\n",
    "    print(\"pooling Error: \",e)"
   ]
  },
  {
   "cell_type": "code",
   "execution_count": null,
   "id": "88ba3de9",
   "metadata": {},
   "outputs": [],
   "source": []
  },
  {
   "cell_type": "markdown",
   "id": "80ea88a8",
   "metadata": {},
   "source": [
    "TASK 3\n",
    "The name and EmployeeID of the Little Lemon manager."
   ]
  },
  {
   "cell_type": "code",
   "execution_count": 72,
   "id": "f9ac6933",
   "metadata": {},
   "outputs": [
    {
     "name": "stdout",
     "output_type": "stream",
     "text": [
      "[('Mario Gollini',)]\n"
     ]
    }
   ],
   "source": [
    "found_manager_query= \"\"\"SELECT name FROM little_lemon_db.employees WHERE Role=\"Manager\";\"\"\"\n",
    "cursor.execute(found_manager_query)\n",
    "result = cursor.fetchall()\n",
    "print(result)"
   ]
  },
  {
   "cell_type": "markdown",
   "id": "86c76957",
   "metadata": {},
   "source": [
    "The name and role of the employee who receives the highest salary."
   ]
  },
  {
   "cell_type": "code",
   "execution_count": 73,
   "id": "dafc1792",
   "metadata": {},
   "outputs": [
    {
     "name": "stdout",
     "output_type": "stream",
     "text": [
      "[('Mario Gollini', 'Manager')]\n"
     ]
    }
   ],
   "source": [
    "highest_earner_query = \"\"\"SELECT Name,Role from little_lemon_db.employees ORDER BY Annual_Salary DESC LIMIT 1;\"\"\"\n",
    "cursor.execute(highest_earner_query)\n",
    "result = cursor.fetchall()\n",
    "print(result)"
   ]
  },
  {
   "cell_type": "markdown",
   "id": "185b00cc",
   "metadata": {},
   "source": [
    "The number of guests booked between 18:00 and 20:00."
   ]
  },
  {
   "cell_type": "code",
   "execution_count": 74,
   "id": "44155716",
   "metadata": {},
   "outputs": [
    {
     "name": "stdout",
     "output_type": "stream",
     "text": [
      "7\n"
     ]
    }
   ],
   "source": [
    "num_guests_query = \"\"\"SELECT COUNT(*) FROM little_lemon_db.bookings WHERE BookingSlot BETWEEN '18:00:00' AND '20:00:00';;\"\"\"\n",
    "cursor.execute(num_guests_query)\n",
    "result = cursor.fetchall()\n",
    "print(result[0][0])"
   ]
  },
  {
   "cell_type": "markdown",
   "id": "386d7815",
   "metadata": {},
   "source": [
    "The full name and BookingID of all guests waiting to be seated with the receptionist in sorted order \n",
    "with respect to their BookingSlot."
   ]
  },
  {
   "cell_type": "code",
   "execution_count": 75,
   "id": "676c46cd",
   "metadata": {},
   "outputs": [
    {
     "name": "stdout",
     "output_type": "stream",
     "text": [
      "('Vanessa  McCarthy', 3, datetime.timedelta(seconds=54000))\n",
      "('Marcos  Romero', 4, datetime.timedelta(seconds=63000))\n",
      "('Annes  Java', 7, datetime.timedelta(seconds=64800))\n",
      "('Hiroki  Yamane', 5, datetime.timedelta(seconds=66600))\n",
      "('Anna  Iversen', 1, datetime.timedelta(seconds=68400))\n",
      "('Joakim  Iversen', 2, datetime.timedelta(seconds=68400))\n",
      "('Bald  Vin', 8, datetime.timedelta(seconds=68400))\n",
      "('Jay  Kon', 9, datetime.timedelta(seconds=70200))\n",
      "('Diana  Pinto', 6, datetime.timedelta(seconds=72000))\n"
     ]
    }
   ],
   "source": [
    "seating_order_query = \"\"\"SELECT CONCAT(GuestFirstName,'  ',GuestLastName) AS FullName,BookingID,BookingSlot FROM \n",
    "                        little_lemon_db.bookings ORDER BY BookingSlot;\"\"\"\n",
    "cursor.execute(seating_order_query)\n",
    "results = cursor.fetchall()\n",
    "for result in results:\n",
    "    print(result)\n",
    " "
   ]
  },
  {
   "cell_type": "markdown",
   "id": "edafe8a0",
   "metadata": {},
   "source": [
    "Convert the time deltas to hours, minutes, and seconds"
   ]
  },
  {
   "cell_type": "code",
   "execution_count": 76,
   "id": "5c89627c",
   "metadata": {},
   "outputs": [
    {
     "name": "stdout",
     "output_type": "stream",
     "text": [
      "Vanessa McCarthy (Rank 3): 15:00:00\n",
      "Marcos Romero (Rank 4): 17:30:00\n",
      "Annes Java (Rank 7): 18:00:00\n",
      "Hiroki Yamane (Rank 5): 18:30:00\n",
      "Anna Iversen (Rank 1): 19:00:00\n",
      "Joakim Iversen (Rank 2): 19:00:00\n",
      "Bald Vin (Rank 8): 19:00:00\n",
      "Jay Kon (Rank 9): 19:30:00\n",
      "Diana Pinto (Rank 6): 20:00:00\n"
     ]
    }
   ],
   "source": [
    "from datetime import timedelta\n",
    "\n",
    "# List of tuples containing the data above\n",
    "time_data = [\n",
    "    ('Vanessa McCarthy', 3, timedelta(seconds=54000)),\n",
    "    ('Marcos Romero', 4, timedelta(seconds=63000)),\n",
    "    ('Annes Java', 7, timedelta(seconds=64800)),\n",
    "    ('Hiroki Yamane', 5, timedelta(seconds=66600)),\n",
    "    ('Anna Iversen', 1, timedelta(seconds=68400)),\n",
    "    ('Joakim Iversen', 2, timedelta(seconds=68400)),\n",
    "    ('Bald Vin', 8, timedelta(seconds=68400)),\n",
    "    ('Jay Kon', 9, timedelta(seconds=70200)),\n",
    "    ('Diana Pinto', 6, timedelta(seconds=72000))\n",
    "]\n",
    "\n",
    "# Function to convert timedelta to hours, minutes, and seconds\n",
    "def convert_timedelta(time_delta):\n",
    "    total_seconds = int(time_delta.total_seconds())\n",
    "    hours, remainder = divmod(total_seconds, 3600)\n",
    "    minutes, seconds = divmod(remainder, 60)\n",
    "    return f\"{hours:02}:{minutes:02}:{seconds:02}\"\n",
    "\n",
    "converted_times = [(name, rank, convert_timedelta(time_delta)) for name, rank, time_delta in time_data]\n",
    "\n",
    "# Print the converted times\n",
    "for name, rank, time_str in converted_times:\n",
    "    print(f\"{name} (Rank {rank}): {time_str}\")\n"
   ]
  },
  {
   "cell_type": "markdown",
   "id": "27e17f15",
   "metadata": {},
   "source": [
    "TASK 4\n",
    "Create stored procedure\n",
    "A stored procedure that displays the status of each guest’s order based on the assigned employee"
   ]
  },
  {
   "cell_type": "code",
   "execution_count": 77,
   "id": "6c8f5757",
   "metadata": {},
   "outputs": [
    {
     "data": {
      "text/plain": [
       "[]"
      ]
     },
     "execution_count": 77,
     "metadata": {},
     "output_type": "execute_result"
    }
   ],
   "source": [
    "sales_status_query = \"\"\"\n",
    "\n",
    "CREATE PROCEDURE GuestStatusss()\n",
    "\n",
    "BEGIN\n",
    "\n",
    "SELECT SUM(Quantity) AS TotalSales, AVG(Quantity) AS AverageSales, MIN(BillAmount) AS MinBillPaid, MAX(BillAmount) \n",
    "AS MaxBillPaid\n",
    "FROM little_lemon_db.orders;\n",
    "END\n",
    "\"\"\"\n",
    "cursor.execute(sales_status_query)\n",
    "result = cursor.fetchall()\n",
    "result"
   ]
  },
  {
   "cell_type": "code",
   "execution_count": 78,
   "id": "10289f5e",
   "metadata": {},
   "outputs": [
    {
     "name": "stdout",
     "output_type": "stream",
     "text": [
      "i\n"
     ]
    }
   ],
   "source": [
    "print('i')"
   ]
  },
  {
   "cell_type": "markdown",
   "id": "05b96e27",
   "metadata": {},
   "source": [
    "TASK 5\n",
    "Combine Data"
   ]
  },
  {
   "cell_type": "code",
   "execution_count": 79,
   "id": "267ab3cb",
   "metadata": {},
   "outputs": [
    {
     "name": "stdout",
     "output_type": "stream",
     "text": [
      "[15:00:00]\n",
      "[Vanessa McCarthy]\n",
      "[Assigned to: Giorgos Dioudis [Head Chef]]\n",
      "\n",
      "[17:30:00]\n",
      "[Marcos Romero]\n",
      "[Assigned to: Fatma Kaya [Assistant Chef]]\n",
      "\n",
      "[18:00:00]\n",
      "[Annes Java]\n",
      "[Assigned to: John Millar [Receptionist]]\n",
      "\n"
     ]
    }
   ],
   "source": [
    "try:    \n",
    "    combined_query = \"\"\"\n",
    "    SELECT \n",
    "        b.BookingSlot,\n",
    "        CONCAT(b.GuestFirstName, ' ', b.GuestLastName) AS GuestName,\n",
    "        CONCAT('Assigned to: ', e.Name, ' [', e.Role, ']') AS AssignedTo\n",
    "    FROM \n",
    "        Bookings b\n",
    "    JOIN \n",
    "        Employees e\n",
    "    ON \n",
    "        b.EmployeeID = e.EmployeeID\n",
    "    ORDER BY \n",
    "        b.BookingSlot ASC\n",
    "    LIMIT 3;\n",
    "    \"\"\"\n",
    "\n",
    "    cursor.execute(combined_query)\n",
    "\n",
    "    results = cursor.fetchall()\n",
    "    for (booking_slot, guest_name, assigned_to) in results:\n",
    "        print(f\"[{booking_slot}]\\n[{guest_name}]\\n[{assigned_to}]\\n\")\n",
    "\n",
    "except Exception as e:\n",
    "    print(\"Pooling connection error: \",e)"
   ]
  },
  {
   "cell_type": "code",
   "execution_count": null,
   "id": "cac7f171",
   "metadata": {},
   "outputs": [],
   "source": []
  }
 ],
 "metadata": {
  "kernelspec": {
   "display_name": "Python 3 (ipykernel)",
   "language": "python",
   "name": "python3"
  },
  "language_info": {
   "codemirror_mode": {
    "name": "ipython",
    "version": 3
   },
   "file_extension": ".py",
   "mimetype": "text/x-python",
   "name": "python",
   "nbconvert_exporter": "python",
   "pygments_lexer": "ipython3",
   "version": "3.11.3"
  }
 },
 "nbformat": 4,
 "nbformat_minor": 5
}
